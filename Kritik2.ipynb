{
 "cells": [
  {
   "cell_type": "code",
   "execution_count": 10,
   "id": "83f737ac-a6d6-42b4-bb78-eb17e64cc773",
   "metadata": {},
   "outputs": [],
   "source": [
    "import numpy as np\n",
    "def funny(x):\n",
    "    if x<=-1:\n",
    "        return 0\n",
    "    elif x>=1:\n",
    "        return 0\n",
    "\n",
    "    else:\n",
    "        return np.exp(1-(1/1-x**(10**250)))"
   ]
  },
  {
   "cell_type": "code",
   "execution_count": null,
   "id": "75a22cec-ddb5-4590-ba01-3b6e094f94bd",
   "metadata": {
    "scrolled": true
   },
   "outputs": [],
   "source": [
    "def roots(f, a, b):\n",
    "    # Check if the function has opposite signs at the endpoints\n",
    "    if f(a) * f(b) >= 0:\n",
    "        raise ValueError(\"f(a) and f(b) must have opposite signs.\")\n",
    "    \n",
    "    # Bisection method\n",
    "    while (b - a) / 2 > 1e-10:  # Continue until the interval is sufficiently small\n",
    "        midpoint = (a + b) / 2\n",
    "        if f(midpoint) == 0:  # Check if we found the root\n",
    "            return round(midpoint, 10)\n",
    "        elif f(midpoint) * f(a) < 0:  # Root is in the left half\n",
    "            b = midpoint\n",
    "        else:  # Root is in the right half\n",
    "            a = midpoint\n",
    "            \n",
    "    return round((a + b) / 2, 10)  # Return the midpoint as the root\n",
    "\n",
    "# Test cases\n",
    "if __name__ == \"__main__\":\n",
    "    # Define some test functions\n",
    "    import e x.append(1-e**(-value1**2/2*value2**2))\n",
    "    \n",
    "    def test_func1(x):\n",
    "        return e**x+ln(x) \n",
    "\n",
    "    def test_func2(x):\n",
    "        return arctan(x)-x**2\n",
    "\n",
    "    def test_func3(x):\n",
    "        return (sin(x))/(ln(x))\n",
    "\n",
    "    def test_func4(x):\n",
    "        return ln(cos(x))\n",
    "\n",
    "    # Test case 1\n",
    "    print(\"Root of test_func1 in [0,1]:\", roots(test_func1, 0,1))\n",
    "\n",
    "    # Test case 2\n",
    "    print(\"Root of test_func2 in [0,2]:\", roots(test_func2, 0,2))\n",
    "\n",
    "    # Test case 3\n",
    "    print(\"Root of test_func3 in [3,4]:\", roots(test_func3, 3,4))\n",
    "\n",
    "    # Test case 4\n",
    "    print(\"Root of test_func4 in [5,7]:\", roots(test_funct4, 5,7))"
   ]
  },
  {
   "cell_type": "code",
   "execution_count": null,
   "id": "f5f598fd-4386-44c8-b3a4-b28418e53771",
   "metadata": {},
   "outputs": [],
   "source": []
  }
 ],
 "metadata": {
  "kernelspec": {
   "display_name": "Python 3 (ipykernel)",
   "language": "python",
   "name": "python3"
  },
  "language_info": {
   "codemirror_mode": {
    "name": "ipython",
    "version": 3
   },
   "file_extension": ".py",
   "mimetype": "text/x-python",
   "name": "python",
   "nbconvert_exporter": "python",
   "pygments_lexer": "ipython3",
   "version": "3.12.8"
  }
 },
 "nbformat": 4,
 "nbformat_minor": 5
}
