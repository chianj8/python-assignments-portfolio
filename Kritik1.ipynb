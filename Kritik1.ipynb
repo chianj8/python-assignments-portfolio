{
 "cells": [
  {
   "cell_type": "code",
   "execution_count": 5,
   "id": "c157344d-1a8c-4706-b7ca-3495ef16c5fa",
   "metadata": {
    "scrolled": true
   },
   "outputs": [
    {
     "name": "stdin",
     "output_type": "stream",
     "text": [
      "enter input:  0.5\n"
     ]
    },
    {
     "name": "stdout",
     "output_type": "stream",
     "text": [
      "(3.363184753499194e-17+0.5492497519841268j)\n",
      "(5, 5, 4.438920454545455e-05)\n"
     ]
    }
   ],
   "source": [
    "x = float(input(\"enter input: \")) #collect the input using a float\n",
    "\n",
    "def overall(x): #create a function to encompass all of the code\n",
    "    \n",
    "    if 0<=x<=1: #check if inputs are within the range of 0 to 1\n",
    "    \n",
    "        def RS(a,b): #define a function of the right side of the greater than/equal sign\n",
    "            \n",
    "            y = (a**(2*b+1))/(2*b+1)\n",
    "            \n",
    "            return y\n",
    "            output = RS(x)\n",
    "            \n",
    "            print(output)\n",
    "            \n",
    "        n = 0\n",
    "        \n",
    "        while RS(x,n)>=0.0001: #check if the n-value outputs an error of 0.0001 or below using a while loop\n",
    "            n+=1\n",
    "    \n",
    "        #define the variables for the function on the left side, which outputs the error\n",
    "        i = 0\n",
    "        c = 0 #current number of the loop\n",
    "        f = 0 #final variable that is the sum of all the current numbers as the loop runs\n",
    "              #n is already defined above\n",
    "        while i<=(n-1): #use while loop to loop through n and i variables in summation\n",
    "            \n",
    "            c = (((-1)**x)*(x**((2*i)+1)))/((2*i)+1)\n",
    "            f = f + c\n",
    "            i+=1\n",
    "        print (f)\n",
    "    \n",
    "        while i<n:\n",
    "            f = f+i\n",
    "            i+=1\n",
    "    \n",
    "    else:\n",
    "        print(\"Error\")\n",
    "    \n",
    "    return(i,n,RS(x,n)) #return a tuple with the appproximation\n",
    "    \n",
    "print(overall(x)) #print the tuple"
   ]
  },
  {
   "cell_type": "code",
   "execution_count": null,
   "id": "f139bd5c-a5de-43d1-a32e-d939efc2ba63",
   "metadata": {},
   "outputs": [],
   "source": []
  }
 ],
 "metadata": {
  "kernelspec": {
   "display_name": "Python 3 (ipykernel)",
   "language": "python",
   "name": "python3"
  },
  "language_info": {
   "codemirror_mode": {
    "name": "ipython",
    "version": 3
   },
   "file_extension": ".py",
   "mimetype": "text/x-python",
   "name": "python",
   "nbconvert_exporter": "python",
   "pygments_lexer": "ipython3",
   "version": "3.12.8"
  }
 },
 "nbformat": 4,
 "nbformat_minor": 5
}
